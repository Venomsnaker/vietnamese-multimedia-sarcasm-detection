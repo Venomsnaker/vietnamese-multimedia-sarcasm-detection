{
 "cells": [
  {
   "cell_type": "code",
   "execution_count": 1,
   "metadata": {},
   "outputs": [
    {
     "name": "stdout",
     "output_type": "stream",
     "text": [
      "Embeddings shape: torch.Size([1413, 512])\n",
      "Embeddings device: cuda:0\n",
      "Embeddings map length: 1413\n"
     ]
    }
   ],
   "source": [
    "import numpy as np\n",
    "import pandas as pd\n",
    "from pathlib import Path\n",
    "\n",
    "import torch\n",
    "\n",
    "device = torch.device('cuda' if torch.cuda.is_available() else 'cpu')\n",
    "\n",
    "def load_embeddings(folder_path):\n",
    "    embeddings = []\n",
    "\n",
    "    for file in Path(folder_path).glob(\"*.npy\"):\n",
    "        embedding = np.load(str(file))\n",
    "        embedding = embedding.astype(np.float32)\n",
    "        embeddings.append(embedding)\n",
    "    return torch.tensor(np.array(embeddings[0])).to(device)\n",
    "\n",
    "def load_embeddings_map(file_path):\n",
    "    embeddings_map = []\n",
    "\n",
    "    for file in Path(file_path).glob(\"*.csv\"):\n",
    "        df = pd.read_csv(file, header=None)\n",
    "        embeddings_map.append(df.values.tolist())\n",
    "    return pd.Series(embeddings_map[0])\n",
    "\n",
    "folder_path = '../data/embeddings-public-test-clip'\n",
    "embeddings = load_embeddings(folder_path)\n",
    "embeddings_map = load_embeddings_map(folder_path)\n",
    "embeddings_map = embeddings_map.apply(lambda x: x[0] if isinstance(x, list) and len(x) > 0 else x)\n",
    "\n",
    "print(f\"Embeddings shape: {embeddings.shape}\")\n",
    "print(f\"Embeddings device: {embeddings.device}\")\n",
    "print(f\"Embeddings map length: {len(embeddings_map)}\")"
   ]
  },
  {
   "cell_type": "code",
   "execution_count": 2,
   "metadata": {},
   "outputs": [],
   "source": [
    "import json\n",
    "import numpy as np\n",
    "from PIL import Image\n",
    "\n",
    "def load_annotation(file_path):\n",
    "    data = []\n",
    "\n",
    "    with open (file_path, 'r', encoding=\"utf-8\") as file:\n",
    "        data = json.load(file)    \n",
    "    return data\n",
    "\n",
    "annotation_path = \"../data/vimmsd-public-test.json\"\n",
    "data = load_annotation(annotation_path)"
   ]
  },
  {
   "cell_type": "code",
   "execution_count": 3,
   "metadata": {},
   "outputs": [
    {
     "name": "stderr",
     "output_type": "stream",
     "text": [
      "c:\\Users\\ADMIN\\anaconda3\\Lib\\site-packages\\sentence_transformers\\cross_encoder\\CrossEncoder.py:11: TqdmExperimentalWarning: Using `tqdm.autonotebook.tqdm` in notebook mode. Use `tqdm.tqdm` instead to force console mode (e.g. in jupyter console)\n",
      "  from tqdm.autonotebook import tqdm, trange\n"
     ]
    },
    {
     "name": "stdout",
     "output_type": "stream",
     "text": [
      "WARNING:tensorflow:From c:\\Users\\ADMIN\\anaconda3\\Lib\\site-packages\\tf_keras\\src\\losses.py:2976: The name tf.losses.sparse_softmax_cross_entropy is deprecated. Please use tf.compat.v1.losses.sparse_softmax_cross_entropy instead.\n",
      "\n"
     ]
    },
    {
     "name": "stderr",
     "output_type": "stream",
     "text": [
      "c:\\Users\\ADMIN\\anaconda3\\Lib\\site-packages\\transformers\\tokenization_utils_base.py:1601: FutureWarning: `clean_up_tokenization_spaces` was not set. It will be set to `True` by default. This behavior will be depracted in transformers v4.45, and will be then set to `False` by default. For more details check this issue: https://github.com/huggingface/transformers/issues/31884\n",
      "  warnings.warn(\n"
     ]
    }
   ],
   "source": [
    "from sentence_transformers import SentenceTransformer, util\n",
    "import torch\n",
    "\n",
    "text_model = SentenceTransformer('sentence-transformers/clip-ViT-B-32').to(device)\n",
    "\n",
    "def get_clip_cos_sim_score(image_embedding, label):\n",
    "    text_embedding = text_model.encode(label, convert_to_tensor=True).to(device)\n",
    "    image_embedding = image_embedding.to(device)\n",
    "    score = util.cos_sim(text_embedding, image_embedding)\n",
    "    return score[0].item()\n",
    "\n",
    "def get_label_by_score(prompt, image_embedding, threshold):\n",
    "    score = get_clip_cos_sim_score(image_embedding=image_embedding, label=prompt)\n",
    "    if (score >= threshold):\n",
    "        return [\"sarcasm\", score]\n",
    "    else:\n",
    "        return [\"not-sarcasm\", score]\n",
    "    \n",
    "def map_test_label(label):\n",
    "    return label if (label == \"not-sarcasm\") else \"sarcasm\"\n",
    "\n",
    "def map_label(label):\n",
    "    return 1 if (label== \"sarcasm\") else 0"
   ]
  },
  {
   "cell_type": "code",
   "execution_count": 10,
   "metadata": {},
   "outputs": [],
   "source": [
    "from sklearn import metrics\n",
    "import matplotlib.pyplot as plt\n",
    "\n",
    "# CLIP model\n",
    "threshold = 0.1995\n",
    "prompt = \"sarcasm\"\n",
    "export = []\n",
    "\n",
    "for id in data:\n",
    "    image_name = data[id]['image']\n",
    "    label_test = map_test_label(data[id]['label'])\n",
    "    \n",
    "    embedding_id = embeddings_map.loc[embeddings_map == image_name].index\n",
    "    result = get_label_by_score(prompt, embeddings[embedding_id], threshold)\n",
    "    label_predicted, score = result[0], result[1]\n",
    "    export.append([id, image_name, label_predicted, np.round(score, 3)])"
   ]
  },
  {
   "cell_type": "code",
   "execution_count": null,
   "metadata": {},
   "outputs": [],
   "source": [
    "export_df = pd.DataFrame(export, columns=[\"key\", \"image\", \"label\", \"score\"])\n",
    "export_df.to_json('../data/exports/image_labels_ver0.1.json', orient='records')"
   ]
  }
 ],
 "metadata": {
  "kernelspec": {
   "display_name": "base",
   "language": "python",
   "name": "python3"
  },
  "language_info": {
   "codemirror_mode": {
    "name": "ipython",
    "version": 3
   },
   "file_extension": ".py",
   "mimetype": "text/x-python",
   "name": "python",
   "nbconvert_exporter": "python",
   "pygments_lexer": "ipython3",
   "version": "3.11.9"
  }
 },
 "nbformat": 4,
 "nbformat_minor": 2
}
