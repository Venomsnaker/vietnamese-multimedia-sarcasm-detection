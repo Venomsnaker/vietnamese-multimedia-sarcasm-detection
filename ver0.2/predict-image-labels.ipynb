{
 "cells": [
  {
   "cell_type": "code",
   "execution_count": 1,
   "metadata": {},
   "outputs": [
    {
     "name": "stderr",
     "output_type": "stream",
     "text": [
      "C:\\Users\\ADMIN\\AppData\\Local\\Temp\\ipykernel_46564\\3149754315.py:22: FutureWarning: You are using `torch.load` with `weights_only=False` (the current default value), which uses the default pickle module implicitly. It is possible to construct malicious pickle data which will execute arbitrary code during unpickling (See https://github.com/pytorch/pytorch/blob/main/SECURITY.md#untrusted-models for more details). In a future release, the default value for `weights_only` will be flipped to `True`. This limits the functions that could be executed during unpickling. Arbitrary objects will no longer be allowed to be loaded via this mode unless they are explicitly allowlisted by the user via `torch.serialization.add_safe_globals`. We recommend you start setting `weights_only=True` for any use case where you don't have full control of the loaded file. Please open an issue on GitHub for any issues related to this experimental feature.\n",
      "  model_ft.load_state_dict(torch.load('../data/models/clip-vit-base-patch32-finetuned.pth', map_location=device))\n",
      "c:\\Users\\ADMIN\\anaconda3\\Lib\\site-packages\\transformers\\tokenization_utils_base.py:1601: FutureWarning: `clean_up_tokenization_spaces` was not set. It will be set to `True` by default. This behavior will be depracted in transformers v4.45, and will be then set to `False` by default. For more details check this issue: https://github.com/huggingface/transformers/issues/31884\n",
      "  warnings.warn(\n"
     ]
    }
   ],
   "source": [
    "import torch\n",
    "from PIL import Image\n",
    "from transformers import CLIPProcessor, CLIPModel\n",
    "import torch.nn as nn\n",
    "import pandas as pd\n",
    "\n",
    "class CLIPFineTuner(nn.Module):\n",
    "    def __init__(self, clip_model, num_classes):\n",
    "        super(CLIPFineTuner, self).__init__()\n",
    "        self.clip_model = clip_model\n",
    "        self.fc = nn.Linear(clip_model.config.projection_dim, num_classes)\n",
    "\n",
    "    def forward(self, images, input_ids):\n",
    "        outputs = self.clip_model(pixel_values=images, input_ids=input_ids)\n",
    "        logits = self.fc(outputs.image_embeds)\n",
    "        return logits\n",
    "    \n",
    "num_classes = 2\n",
    "device = torch.device(\"cuda\" if torch.cuda.is_available() else \"cpu\")\n",
    "model = CLIPModel.from_pretrained(\"openai/clip-vit-base-patch32\").to(device)\n",
    "model_ft = CLIPFineTuner(model, num_classes).to(device)\n",
    "model_ft.load_state_dict(torch.load('../data/models/clip-vit-base-patch32-finetuned.pth', map_location=device))\n",
    "model_ft.eval()\n",
    "labels = [\"sarcasm\", \"not-sarcasm\"]\n",
    "processor = CLIPProcessor.from_pretrained(\"openai/clip-vit-base-patch32\")"
   ]
  },
  {
   "cell_type": "code",
   "execution_count": 2,
   "metadata": {},
   "outputs": [],
   "source": [
    "def predict_sarcasm(image_path):\n",
    "    image = Image.open(image_path).convert(\"RGB\")\n",
    "    image_input = processor(images=image, return_tensors=\"pt\").to(device)\n",
    "    text_inputs = processor(text=[f\"{label}.\" for label in labels], return_tensors=\"pt\", padding=True).to(device)\n",
    "\n",
    "    with torch.no_grad():\n",
    "        outputs = model_ft(image_input.pixel_values, text_inputs.input_ids)\n",
    "        probabilities = torch.softmax(outputs, dim=-1)\n",
    "        predicted_class_idx = torch.argmax(probabilities, dim=-1).item()\n",
    "    return labels[predicted_class_idx], probabilities[0][predicted_class_idx].item()"
   ]
  },
  {
   "cell_type": "code",
   "execution_count": 3,
   "metadata": {},
   "outputs": [],
   "source": [
    "import json\n",
    "import numpy as np\n",
    "from PIL import Image\n",
    "\n",
    "def load_annotation(file_path):\n",
    "    data = []\n",
    "\n",
    "    with open (file_path, 'r', encoding=\"utf-8\") as file:\n",
    "        data = json.load(file)    \n",
    "    return data\n",
    "\n",
    "annotation_path = \"../data/vimmsd-public-test.json\"\n",
    "data = load_annotation(annotation_path)"
   ]
  },
  {
   "cell_type": "code",
   "execution_count": 4,
   "metadata": {},
   "outputs": [
    {
     "name": "stderr",
     "output_type": "stream",
     "text": [
      "c:\\Users\\ADMIN\\anaconda3\\Lib\\site-packages\\transformers\\models\\clip\\modeling_clip.py:480: UserWarning: 1Torch was not compiled with flash attention. (Triggered internally at C:\\cb\\pytorch_1000000000000\\work\\aten\\src\\ATen\\native\\transformers\\cuda\\sdp_utils.cpp:555.)\n",
      "  attn_output = torch.nn.functional.scaled_dot_product_attention(\n"
     ]
    }
   ],
   "source": [
    "def map_test_label(label):\n",
    "    return label if (label == \"not-sarcasm\") else \"sarcasm\"\n",
    "\n",
    "def map_label(label):\n",
    "    return 1 if (label== \"sarcasm\") else 0\n",
    "\n",
    "export = []\n",
    "\n",
    "for id in data:\n",
    "    image_name = data[id]['image']\n",
    "    label_test = map_test_label(data[id]['label'])\n",
    "\n",
    "    image_path = \"../data/dev-images/{}\".format(image_name)\n",
    "    predicted_label, confidence = predict_sarcasm(image_path)\n",
    "\n",
    "    export.append([id, image_name, predicted_label, np.round(confidence, 3)])"
   ]
  },
  {
   "cell_type": "code",
   "execution_count": 6,
   "metadata": {},
   "outputs": [],
   "source": [
    "export_df = pd.DataFrame(export, columns=[\"key\", \"image\", \"label\", \"score\"])\n",
    "export_df.to_json('../data/exports/image_labels_ver0.2.json', orient='records')"
   ]
  }
 ],
 "metadata": {
  "kernelspec": {
   "display_name": "base",
   "language": "python",
   "name": "python3"
  },
  "language_info": {
   "codemirror_mode": {
    "name": "ipython",
    "version": 3
   },
   "file_extension": ".py",
   "mimetype": "text/x-python",
   "name": "python",
   "nbconvert_exporter": "python",
   "pygments_lexer": "ipython3",
   "version": "3.11.9"
  }
 },
 "nbformat": 4,
 "nbformat_minor": 2
}
