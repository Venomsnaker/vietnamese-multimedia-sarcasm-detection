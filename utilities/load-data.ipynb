{
 "cells": [
  {
   "cell_type": "code",
   "execution_count": null,
   "metadata": {},
   "outputs": [],
   "source": [
    "import json\n",
    "import numpy as np\n",
    "from PIL import Image\n",
    "\n",
    "def load_annotation(file_path):\n",
    "    data = []\n",
    "\n",
    "    with open (file_path, 'r', encoding=\"utf-8\") as file:\n",
    "        data = json.load(file)    \n",
    "    return data\n",
    "\n",
    "def load_image(image_path, size):\n",
    "    image = Image.open(image_path).convert(\"RGB\").resize(size=size)\n",
    "    return np.array(image)\n",
    "\n",
    "annotation_path = \"../data/vimmsd-warmup.json\"\n",
    "test_annotation_path = \"../data/vimmsd-test.json\"\n",
    "image_folder_path = \"../data/warmup-images\"\n",
    "\n",
    "data = load_annotation(annotation_path)"
   ]
  },
  {
   "cell_type": "code",
   "execution_count": null,
   "metadata": {},
   "outputs": [],
   "source": [
    "import matplotlib.pyplot as plt\n",
    "\n",
    "for i, id in enumerate(data):\n",
    "    image_path = f\"{image_folder_path}/{data[id]['image']}\"\n",
    "    image = load_image(image_path, size=(1024, 1024))\n",
    "    caption = data[id][\"caption\"]\n",
    "    label = data[id][\"label\"]\n",
    "\n",
    "    fig = plt.figure()\n",
    "    ax = fig.add_subplot(1, 1, 1) \n",
    "    ax.set_title(f\"{label} - {caption[:256]}\")\n",
    "    ax.imshow(image)\n",
    "    ax.axis('off')\n",
    "plt.tight_layout()\n",
    "plt.show()"
   ]
  }
 ],
 "metadata": {
  "kernelspec": {
   "display_name": "base",
   "language": "python",
   "name": "python3"
  },
  "language_info": {
   "codemirror_mode": {
    "name": "ipython",
    "version": 3
   },
   "file_extension": ".py",
   "mimetype": "text/x-python",
   "name": "python",
   "nbconvert_exporter": "python",
   "pygments_lexer": "ipython3",
   "version": "3.11.9"
  }
 },
 "nbformat": 4,
 "nbformat_minor": 2
}
