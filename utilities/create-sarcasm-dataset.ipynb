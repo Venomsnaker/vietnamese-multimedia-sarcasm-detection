{
 "cells": [
  {
   "cell_type": "code",
   "execution_count": 1,
   "metadata": {},
   "outputs": [],
   "source": [
    "import json\n",
    "import numpy as np\n",
    "import pandas as pd\n",
    "from PIL import Image\n",
    "import re\n",
    "import emoji\n",
    "\n",
    "def load_annotation(file_path):\n",
    "    data = []\n",
    "\n",
    "    with open (file_path, 'r', encoding=\"utf-8\") as file:\n",
    "        data = json.load(file)    \n",
    "    return data\n",
    "\n",
    "annotation_path = \"../data/vimmsd-train.json\"\n",
    "public_test_path = \"../data/vimmsd-public-test.json\"\n",
    "private_test_path = \"../data/vimmsd-private-test.json\"\n",
    "\n",
    "data = load_annotation(annotation_path)\n",
    "data_public_test = load_annotation(public_test_path)\n",
    "data_private_test = load_annotation(private_test_path)"
   ]
  },
  {
   "cell_type": "code",
   "execution_count": 2,
   "metadata": {},
   "outputs": [],
   "source": [
    "def map_image_to_type_binary(label):\n",
    "    if (label == \"multi-sarcasm\"):\n",
    "        return 0\n",
    "    else:\n",
    "        return 1\n",
    "    \n",
    "def map_image_to_type_quad(label):\n",
    "    if (label == \"multi-sarcasm\"):\n",
    "        return 0\n",
    "    elif (label == \"not-sarcasm\"):\n",
    "        return 1\n",
    "    elif (label == \"image-sarcasm\"):\n",
    "        return 2\n",
    "    elif (label == \"text-sarcasm\"):\n",
    "        return 3\n",
    "    \n",
    "result_raw = []\n",
    "result_binary = []\n",
    "result_quad = []\n",
    "\n",
    "for id in data:\n",
    "    image_id = data[id]['image']\n",
    "    image_id = image_id.replace(\".jpg\", \"\")\n",
    "    label_binary = map_image_to_type_binary(data[id]['label'])\n",
    "    label_quad = map_image_to_type_quad(data[id]['label'])\n",
    "    lable_raw = data[id]['label']\n",
    "    text = data[id]['caption']\n",
    "    # text = emoji.replace_emoji(text)\n",
    "    \n",
    "    result_raw.append({\"image_id\": image_id, \"text\": text, \"label\": lable_raw})\n",
    "    result_binary.append({\"image_id\": image_id, \"text\": text, \"label\": label_binary})\n",
    "    result_quad.append({\"image_id\": image_id, \"text\": text, \"label\": label_quad})\n",
    "    \n",
    "public_test = []\n",
    "\n",
    "for id in data_public_test:\n",
    "    image_id = data_public_test[id]['image']\n",
    "    text = data_public_test[id]['caption']\n",
    "    # text = emoji.replace_emoji(text)\n",
    "    image_id = image_id.replace(\".jpg\", \"\")\n",
    "    public_test.append({\"image_id\": image_id, \"text\": text, \"label\": 0})\n",
    "    \n",
    "private_test = []\n",
    "\n",
    "for id in data_private_test:\n",
    "    image_id = data_private_test[id]['image']\n",
    "    text = data_private_test[id]['caption']\n",
    "    # text = emoji.replace_emoji(text)\n",
    "    image_id = image_id.replace(\".jpg\", \"\")\n",
    "    private_test.append({\"image_id\": image_id, \"text\": text, \"label\": 0})"
   ]
  },
  {
   "cell_type": "code",
   "execution_count": null,
   "metadata": {},
   "outputs": [],
   "source": [
    "from sklearn.model_selection import train_test_split\n",
    "\n",
    "df_binary = pd.DataFrame(result_binary)\n",
    "df_quad = pd.DataFrame(result_quad)\n",
    "\n",
    "train_df_binary, test_val_df_binary = train_test_split(df_binary, test_size=0.2, random_state=42, stratify=df_binary['label'])\n",
    "val_df_binary, test_df_binary = train_test_split(test_val_df_binary, test_size=0.2, random_state=42, stratify=test_val_df_binary['label'])\n",
    "\n",
    "train_result_binary = train_df_binary.to_dict(orient='records')\n",
    "# val_result_binary = test_val_df_binary.to_dict(orient='records')\n",
    "val_result_binary = val_df_binary.to_dict(orient='records')\n",
    "test_result_binary = test_df_binary.to_dict(orient='records')\n",
    "\n",
    "\n",
    "train_df_quad, test_val_df_quad = train_test_split(df_quad, test_size=0.2, random_state=42, stratify=df_quad['label'])\n",
    "val_df_quad, test_df_quad = train_test_split(test_val_df_quad, test_size=0.2, random_state=42, stratify=test_val_df_quad['label'])\n",
    "\n",
    "train_result_quad = train_df_quad.to_dict(orient='records')\n",
    "# val_result_quad = test_val_df_quad.to_dict(orient='records')\n",
    "val_result_quad = val_df_quad.to_dict(orient='records')\n",
    "test_result_quad = test_df_quad.to_dict(orient='records')"
   ]
  },
  {
   "cell_type": "code",
   "execution_count": null,
   "metadata": {},
   "outputs": [
    {
     "ename": "NameError",
     "evalue": "name 'train_result_binary' is not defined",
     "output_type": "error",
     "traceback": [
      "\u001b[1;31m---------------------------------------------------------------------------\u001b[0m",
      "\u001b[1;31mNameError\u001b[0m                                 Traceback (most recent call last)",
      "Cell \u001b[1;32mIn[4], line 1\u001b[0m\n\u001b[1;32m----> 1\u001b[0m \u001b[38;5;28mprint\u001b[39m(\u001b[38;5;124m\"\u001b[39m\u001b[38;5;124mLength train binary:\u001b[39m\u001b[38;5;124m\"\u001b[39m, \u001b[38;5;28mlen\u001b[39m(train_result_binary))\n\u001b[0;32m      2\u001b[0m \u001b[38;5;66;03m# print(\"Length valid binary:\", len(val_result_binary))\u001b[39;00m\n\u001b[0;32m      3\u001b[0m \u001b[38;5;66;03m# print(\"Length test binary:\", len(test_result_binary))\u001b[39;00m\n\u001b[0;32m      4\u001b[0m \u001b[38;5;28mprint\u001b[39m()\n",
      "\u001b[1;31mNameError\u001b[0m: name 'train_result_binary' is not defined"
     ]
    }
   ],
   "source": [
    "print(\"Length train binary:\", len(train_result_binary))\n",
    "print(\"Length valid binary:\", len(val_result_binary))\n",
    "print(\"Length test binary:\", len(test_result_binary))\n",
    "print()\n",
    "print(\"Length train quad:\", len(train_result_quad))\n",
    "print(\"Length valid quad:\", len(val_result_quad))\n",
    "print(\"Length test quad:\", len(test_result_quad))\n",
    "print()\n",
    "print(\"Length result raw:\", len(result_raw))\n",
    "print(\"Length public test:\", len(public_test))\n",
    "print(\"Length private test:\", len(private_test))"
   ]
  },
  {
   "cell_type": "code",
   "execution_count": 6,
   "metadata": {},
   "outputs": [],
   "source": [
    "with open('../data/datasets/quad-labels/train.json', 'w', encoding='utf-8') as f:\n",
    "    json.dump(result_quad, f, ensure_ascii=False, indent=4)"
   ]
  },
  {
   "cell_type": "code",
   "execution_count": 15,
   "metadata": {},
   "outputs": [],
   "source": [
    "with open('../data/datasets/binary-labels/train.json', 'w', encoding='utf-8') as f:\n",
    "    json.dump(train_result_binary, f, ensure_ascii=False, indent=4)\n",
    "    \n",
    "with open('../data/datasets/binary-labels/val.json', 'w', encoding='utf-8') as f:\n",
    "    json.dump(val_result_binary, f, ensure_ascii=False, indent=4)\n",
    "    \n",
    "with open('../data/datasets/binary-labels/test.json', 'w', encoding='utf-8') as f:\n",
    "    json.dump(test_result_binary, f, ensure_ascii=False, indent=4)\n",
    "    \n",
    "with open('../data/datasets/quad-labels/train.json', 'w', encoding='utf-8') as f:\n",
    "    json.dump(train_result_quad, f, ensure_ascii=False, indent=4)\n",
    "    \n",
    "with open('../data/datasets/quad-labels/val.json', 'w', encoding='utf-8') as f:\n",
    "    json.dump(val_result_quad, f, ensure_ascii=False, indent=4)\n",
    "    \n",
    "with open('../data/datasets/quad-labels/test.json', 'w', encoding='utf-8') as f:\n",
    "    json.dump(test_result_quad, f, ensure_ascii=False, indent=4)\n",
    "    \n",
    "with open('../data/datasets/train-sarcasm-dataset.json', 'w', encoding='utf-8') as f:\n",
    "    json.dump(result_raw, f, ensure_ascii=False, indent=4)\n",
    "    \n",
    "with open('../data/datasets/public_test.json', 'w', encoding='utf-8') as f:\n",
    "    json.dump(public_test, f, ensure_ascii=False, indent=4)\n",
    "    \n",
    "with open('../data/datasets/private_test.json', 'w', encoding='utf-8') as f:\n",
    "    json.dump(private_test, f, ensure_ascii=False, indent=4)"
   ]
  }
 ],
 "metadata": {
  "kernelspec": {
   "display_name": "base",
   "language": "python",
   "name": "python3"
  },
  "language_info": {
   "codemirror_mode": {
    "name": "ipython",
    "version": 3
   },
   "file_extension": ".py",
   "mimetype": "text/x-python",
   "name": "python",
   "nbconvert_exporter": "python",
   "pygments_lexer": "ipython3",
   "version": "3.11.9"
  }
 },
 "nbformat": 4,
 "nbformat_minor": 2
}
