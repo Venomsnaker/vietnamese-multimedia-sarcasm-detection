{
 "cells": [
  {
   "cell_type": "code",
   "execution_count": 1,
   "metadata": {},
   "outputs": [],
   "source": [
    "import json\n",
    "\n",
    "file_path = \"../data/exports/result_mvclip_ver0.9.json\"\n",
    "\n",
    "with open(file_path, \"r\", encoding=\"UTF-8\") as f:\n",
    "    result = json.load(f)\n",
    "result = result[\"data\"]"
   ]
  },
  {
   "cell_type": "code",
   "execution_count": 2,
   "metadata": {},
   "outputs": [],
   "source": [
    "import json\n",
    "import numpy as np\n",
    "import pandas as pd\n",
    "from PIL import Image\n",
    "\n",
    "def load_annotation(file_path):\n",
    "    data = []\n",
    "\n",
    "    with open (file_path, 'r', encoding=\"utf-8\") as file:\n",
    "        data = json.load(file)    \n",
    "    return data\n",
    "\n",
    "annotation_path = \"../data/vimmsd-private-test.json\"\n",
    "data = load_annotation(annotation_path)"
   ]
  },
  {
   "cell_type": "code",
   "execution_count": 3,
   "metadata": {},
   "outputs": [],
   "source": [
    "def map_label_binary(label):\n",
    "    return \"multi-sarcasm\" if label == 0 else \"not-sarcasm\"\n",
    "\n",
    "def map_label_quad(label):\n",
    "    if (label == 0):\n",
    "        return \"multi-sarcasm\"\n",
    "    elif (label == 1):\n",
    "        return \"not-sarcasm\"\n",
    "    elif (label == 2):\n",
    "        return \"image-sarcasm\"\n",
    "    elif (label == 3):\n",
    "        return \"text-sarcasm\"\n",
    "    else:\n",
    "        raise KeyError(\"Unknown label detected:\", label)\n",
    "    \n",
    "export = []\n",
    "\n",
    "for id in data:\n",
    "    image_name = data[id]['image']\n",
    "    predicted_label = map_label_quad(result[int(id)][\"predict\"])\n",
    "    export.append([id, image_name, predicted_label])\n",
    "    \n",
    "export_df = pd.DataFrame(export, columns=[\"key\", \"image\", \"label\"])\n",
    "export_df.to_json('../data/exports/combine_labels_ver0.9.json', orient='records')"
   ]
  }
 ],
 "metadata": {
  "kernelspec": {
   "display_name": "base",
   "language": "python",
   "name": "python3"
  },
  "language_info": {
   "codemirror_mode": {
    "name": "ipython",
    "version": 3
   },
   "file_extension": ".py",
   "mimetype": "text/x-python",
   "name": "python",
   "nbconvert_exporter": "python",
   "pygments_lexer": "ipython3",
   "version": "3.11.9"
  }
 },
 "nbformat": 4,
 "nbformat_minor": 2
}
