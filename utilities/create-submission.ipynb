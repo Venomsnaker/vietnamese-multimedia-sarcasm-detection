{
 "cells": [
  {
   "cell_type": "code",
   "execution_count": 1,
   "metadata": {},
   "outputs": [
    {
     "name": "stdout",
     "output_type": "stream",
     "text": [
      "Length of text_labels: 1413\n",
      "Length of image_labels: 1413\n",
      "Length of combine_labels: 1504\n"
     ]
    }
   ],
   "source": [
    "import json\n",
    "\n",
    "def map_text_sarcasm_labels(s):\n",
    "    if s == \"not-sarcasm\": \n",
    "        return s\n",
    "    else: return \"sarcasm\"\n",
    "\n",
    "image_labels_path = \"../data/exports/image_labels_ver0.2.json\"\n",
    "text_labels_path = \"../data/exports/text_labels_ver0.2.json\"\n",
    "combine_labels_path = \"../data/exports/combine_labels_ver0.9.json\"\n",
    "\n",
    "with open(text_labels_path, 'r') as file:\n",
    "    text_labels = json.load(file)\n",
    "    text_labels = text_labels[\"results\"]\n",
    "print(\"Length of text_labels:\", len(text_labels))\n",
    "\n",
    "with open(image_labels_path, 'r') as file:\n",
    "    image_labels = json.load(file)\n",
    "print(\"Length of image_labels:\", len(image_labels))\n",
    "\n",
    "with open(combine_labels_path, 'r') as file:\n",
    "    combine_labels = json.load(file)\n",
    "print(\"Length of combine_labels:\", len(combine_labels))"
   ]
  },
  {
   "cell_type": "code",
   "execution_count": 2,
   "metadata": {},
   "outputs": [],
   "source": [
    "submission = {\"results\": {}, \"phase\": \"test\"}\n",
    "\n",
    "for data in combine_labels:\n",
    "    id = data[\"key\"]\n",
    "    label = data[\"label\"]\n",
    "    submission[\"results\"][id] = label\n",
    "    \n",
    "with open(\"../data/submissions/submission_ver0.11.json\", \"w\") as outfile: \n",
    "    json.dump(submission, outfile, indent=4)"
   ]
  }
 ],
 "metadata": {
  "kernelspec": {
   "display_name": "base",
   "language": "python",
   "name": "python3"
  },
  "language_info": {
   "codemirror_mode": {
    "name": "ipython",
    "version": 3
   },
   "file_extension": ".py",
   "mimetype": "text/x-python",
   "name": "python",
   "nbconvert_exporter": "python",
   "pygments_lexer": "ipython3",
   "version": "3.11.9"
  }
 },
 "nbformat": 4,
 "nbformat_minor": 2
}
